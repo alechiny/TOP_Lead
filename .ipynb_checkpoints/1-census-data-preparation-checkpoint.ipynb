{
 "cells": [
  {
   "cell_type": "markdown",
   "id": "9e26ff12",
   "metadata": {},
   "source": [
    "# SUMMARY\n",
    "## This notebook contains the following:\n",
    "* Import a dataset from the Census Boureau Website (dataset not provided becouse of the large size, a reduced size dataset is saved at the bottom of this notebook)\n",
    "* Select the variables that will be used EDA nad modeling\n",
    "* Reduce the size of the original data set\n",
    "* Export the reduced dataset for future use\n"
   ]
  },
  {
   "cell_type": "markdown",
   "id": "5014969c",
   "metadata": {},
   "source": [
    "# 1. Imports"
   ]
  },
  {
   "cell_type": "code",
   "execution_count": 1,
   "id": "67b88599",
   "metadata": {},
   "outputs": [],
   "source": [
    "# Imports\n",
    "import pandas as pd\n",
    "import numpy as np\n",
    "import matplotlib.pyplot as plt"
   ]
  },
  {
   "cell_type": "markdown",
   "id": "40304b35",
   "metadata": {},
   "source": [
    "# 2. Dataset Import\n",
    "### This is a smaler version of the dataset that was downoaded from the the Census Boureau Website \n",
    "The original dataset from the Census Boureau is too big to be uploaded on Git.  To make the file more manageable it was reduced in size by keeping the Census Tract that include the village of Hazel Crest.  The tracts are the folowing:\n",
    "* 825503.0\n",
    "* 825501.0\n",
    "* 827700.0\n",
    "* 829902.0\n",
    "* 825504.0\n",
    "\n",
    "This preliminary data ceaning process was executed in a notebook that is not presented here.  Below is the modified dataset."
   ]
  },
  {
   "cell_type": "code",
   "execution_count": 2,
   "id": "7637ed10",
   "metadata": {},
   "outputs": [],
   "source": [
    "# Census Data\n",
    "df = pd.read_csv('./Data/05-11-2022_Residential_Property_Characteristics_Short.csv')"
   ]
  },
  {
   "cell_type": "code",
   "execution_count": 3,
   "id": "353c8c70",
   "metadata": {},
   "outputs": [
    {
     "data": {
      "text/plain": [
       "(9714, 83)"
      ]
     },
     "execution_count": 3,
     "metadata": {},
     "output_type": "execute_result"
    }
   ],
   "source": [
    "# Shape\n",
    "df.shape"
   ]
  },
  {
   "cell_type": "code",
   "execution_count": 4,
   "id": "f893a5b1",
   "metadata": {},
   "outputs": [
    {
     "name": "stdout",
     "output_type": "stream",
     "text": [
      "<class 'pandas.core.frame.DataFrame'>\n",
      "RangeIndex: 9714 entries, 0 to 9713\n",
      "Data columns (total 83 columns):\n",
      " #   Column                                           Non-Null Count  Dtype  \n",
      "---  ------                                           --------------  -----  \n",
      " 0   Unnamed: 0                                       9714 non-null   int64  \n",
      " 1   PIN                                              9714 non-null   int64  \n",
      " 2   Property Class                                   9714 non-null   int64  \n",
      " 3   Tax Year                                         9714 non-null   int64  \n",
      " 4   Neighborhood Code                                9714 non-null   int64  \n",
      " 5   Land Square Feet                                 9714 non-null   int64  \n",
      " 6   Town Code                                        9714 non-null   int64  \n",
      " 7   Type of Residence                                7906 non-null   float64\n",
      " 8   Apartments                                       7906 non-null   float64\n",
      " 9   Wall Material                                    7906 non-null   float64\n",
      " 10  Roof Material                                    7906 non-null   float64\n",
      " 11  Rooms                                            7906 non-null   float64\n",
      " 12  Bedrooms                                         7906 non-null   float64\n",
      " 13  Basement                                         7906 non-null   float64\n",
      " 14  Basement Finish                                  7906 non-null   float64\n",
      " 15  Central Heating                                  7906 non-null   float64\n",
      " 16  Other Heating                                    7906 non-null   float64\n",
      " 17  Central Air                                      7906 non-null   float64\n",
      " 18  Fireplaces                                       7906 non-null   float64\n",
      " 19  Attic Type                                       7906 non-null   float64\n",
      " 20  Attic Finish                                     9714 non-null   float64\n",
      " 21  Half Baths                                       7906 non-null   float64\n",
      " 22  Design Plan                                      7906 non-null   float64\n",
      " 23  Cathedral Ceiling                                7906 non-null   float64\n",
      " 24  Construction Quality                             7906 non-null   float64\n",
      " 25  Renovation                                       1 non-null      float64\n",
      " 26  Site Desireability                               7906 non-null   float64\n",
      " 27  Garage 1 Size                                    7906 non-null   float64\n",
      " 28  Garage 1 Material                                7906 non-null   float64\n",
      " 29  Garage 1 Attachment                              7906 non-null   float64\n",
      " 30  Garage 1 Area                                    7906 non-null   float64\n",
      " 31  Garage 2 Size                                    7906 non-null   float64\n",
      " 32  Garage 2 Material                                7906 non-null   float64\n",
      " 33  Garage 2 Attachment                              7906 non-null   float64\n",
      " 34  Garage 2 Area                                    7906 non-null   float64\n",
      " 35  Porch                                            9714 non-null   int64  \n",
      " 36  Other Improvements                               7906 non-null   float64\n",
      " 37  Building Square Feet                             7906 non-null   float64\n",
      " 38  Repair Condition                                 7906 non-null   float64\n",
      " 39  Multi Code                                       7906 non-null   float64\n",
      " 40  Number of Commercial Units                       7906 non-null   float64\n",
      " 41  Prior Tax Year Market Value Estimate (Land)      9714 non-null   float64\n",
      " 42  Prior Tax Year Market Value Estimate (Building)  9714 non-null   float64\n",
      " 43  Date of Most Recent Sale                         460 non-null    object \n",
      " 44  Deed No.                                         460 non-null    float64\n",
      " 45  Sale Price                                       460 non-null    float64\n",
      " 46  Longitude                                        9714 non-null   float64\n",
      " 47  Latitude                                         9714 non-null   float64\n",
      " 48  Census Tract                                     9714 non-null   float64\n",
      " 49  Total Building Square Feet                       14 non-null     float64\n",
      " 50  Multi Property Indicator                         9714 non-null   int64  \n",
      " 51  Property Address                                 9714 non-null   object \n",
      " 52  Modeling Group                                   9714 non-null   object \n",
      " 53  Full Baths                                       7906 non-null   float64\n",
      " 54  Age                                              9714 non-null   int64  \n",
      " 55  Use                                              9714 non-null   int64  \n",
      " 56  Number of Units                                  1356 non-null   float64\n",
      " 57  Percent Ownership                                1356 non-null   float64\n",
      " 58  Condo Class Factor                               1808 non-null   float64\n",
      " 59  Multi-Family Indicator                           44 non-null     float64\n",
      " 60  Large Lot                                        0 non-null      float64\n",
      " 61  Condition, Desirability and Utility              16 non-null     object \n",
      " 62  Deed Type                                        460 non-null    object \n",
      " 63  O'Hare Noise                                     9714 non-null   float64\n",
      " 64  Floodplain                                       9714 non-null   float64\n",
      " 65  Near Major Road                                  9714 non-null   float64\n",
      " 66  Total Units                                      9714 non-null   float64\n",
      " 67  Condo Strata                                     1808 non-null   float64\n",
      " 68  Age Squared                                      9714 non-null   int64  \n",
      " 69  Age Decade                                       9714 non-null   float64\n",
      " 70  Age Decade Squared                               9714 non-null   float64\n",
      " 71  Lot Size Squared                                 9714 non-null   int64  \n",
      " 72  Improvement Size Squared                         7906 non-null   float64\n",
      " 73  Location Factor                                  9714 non-null   float64\n",
      " 74  Garage indicator                                 7906 non-null   float64\n",
      " 75  Residential share of building                    1356 non-null   float64\n",
      " 76  Pure Market Sale                                 9714 non-null   int64  \n",
      " 77  Pure Market Filter                               9714 non-null   int64  \n",
      " 78  Neigborhood Code (mapping)                       9714 non-null   int64  \n",
      " 79  Square root of lot size                          9714 non-null   float64\n",
      " 80  Square root of age                               9714 non-null   float64\n",
      " 81  Square root of improvement size                  7906 non-null   float64\n",
      " 82  Town and Neighborhood                            9714 non-null   int64  \n",
      "dtypes: float64(61), int64(17), object(5)\n",
      "memory usage: 6.2+ MB\n"
     ]
    }
   ],
   "source": [
    "# Infor on column names at datatype\n",
    "df.info()"
   ]
  },
  {
   "cell_type": "markdown",
   "id": "477d7c77",
   "metadata": {},
   "source": [
    "# 3.  Data Export\n",
    "### Removing the unwanted columns. "
   ]
  },
  {
   "cell_type": "code",
   "execution_count": 5,
   "id": "6411ca31",
   "metadata": {},
   "outputs": [],
   "source": [
    "# Creating a new dataset with the only the columns I need\n",
    "\n",
    "df_2 = df[['PIN', 'Property Class', 'Neighborhood Code', 'Town Code', 'Type of Residence', 'Building Square Feet',\n",
    "                        'Prior Tax Year Market Value Estimate (Land)', 'Prior Tax Year Market Value Estimate (Building)',\n",
    "                        'Longitude', 'Latitude', 'Census Tract', 'Property Address', 'Age', 'Neighborhood Code']]"
   ]
  },
  {
   "cell_type": "code",
   "execution_count": 6,
   "id": "91140564",
   "metadata": {},
   "outputs": [
    {
     "name": "stdout",
     "output_type": "stream",
     "text": [
      "<class 'pandas.core.frame.DataFrame'>\n",
      "RangeIndex: 9714 entries, 0 to 9713\n",
      "Data columns (total 14 columns):\n",
      " #   Column                                           Non-Null Count  Dtype  \n",
      "---  ------                                           --------------  -----  \n",
      " 0   PIN                                              9714 non-null   int64  \n",
      " 1   Property Class                                   9714 non-null   int64  \n",
      " 2   Neighborhood Code                                9714 non-null   int64  \n",
      " 3   Town Code                                        9714 non-null   int64  \n",
      " 4   Type of Residence                                7906 non-null   float64\n",
      " 5   Building Square Feet                             7906 non-null   float64\n",
      " 6   Prior Tax Year Market Value Estimate (Land)      9714 non-null   float64\n",
      " 7   Prior Tax Year Market Value Estimate (Building)  9714 non-null   float64\n",
      " 8   Longitude                                        9714 non-null   float64\n",
      " 9   Latitude                                         9714 non-null   float64\n",
      " 10  Census Tract                                     9714 non-null   float64\n",
      " 11  Property Address                                 9714 non-null   object \n",
      " 12  Age                                              9714 non-null   int64  \n",
      " 13  Neighborhood Code                                9714 non-null   int64  \n",
      "dtypes: float64(7), int64(6), object(1)\n",
      "memory usage: 1.0+ MB\n",
      "----\n",
      "This is the shape: (9714, 14)\n"
     ]
    },
    {
     "data": {
      "text/plain": [
       "(None,)"
      ]
     },
     "execution_count": 6,
     "metadata": {},
     "output_type": "execute_result"
    }
   ],
   "source": [
    "# Checking shape and info \n",
    "df_2.info(),\n",
    "print('----'),\n",
    "print(f'This is the shape: {df_2.shape}'), "
   ]
  },
  {
   "cell_type": "markdown",
   "id": "9eae86de",
   "metadata": {},
   "source": [
    "### Exporting the dataset"
   ]
  },
  {
   "cell_type": "code",
   "execution_count": 7,
   "id": "26d7f601",
   "metadata": {},
   "outputs": [],
   "source": [
    "# Exporting for future use\n",
    "\n",
    "df_2.to_csv('./Data/cookcensus2.csv')"
   ]
  },
  {
   "cell_type": "code",
   "execution_count": null,
   "id": "31a9d7ed",
   "metadata": {},
   "outputs": [],
   "source": []
  }
 ],
 "metadata": {
  "kernelspec": {
   "display_name": "Python 3",
   "language": "python",
   "name": "python3"
  },
  "language_info": {
   "codemirror_mode": {
    "name": "ipython",
    "version": 3
   },
   "file_extension": ".py",
   "mimetype": "text/x-python",
   "name": "python",
   "nbconvert_exporter": "python",
   "pygments_lexer": "ipython3",
   "version": "3.8.8"
  }
 },
 "nbformat": 4,
 "nbformat_minor": 5
}
