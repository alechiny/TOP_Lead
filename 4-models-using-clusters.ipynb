{
 "cells": [
  {
   "cell_type": "markdown",
   "id": "1dca7570",
   "metadata": {},
   "source": [
    "# SUMMARY\n",
    "### This notebook contains:\n",
    "* Import of dataset featuring clusters representing the different housing groups\n",
    "* Modeling using the the best model from notebook 3\n",
    "* Model with the same variables"
   ]
  },
  {
   "cell_type": "markdown",
   "id": "a648bc64",
   "metadata": {},
   "source": [
    "# 1.  Imports and Data "
   ]
  },
  {
   "cell_type": "markdown",
   "id": "5dafb86a",
   "metadata": {},
   "source": [
    "## 1.1 Libraries"
   ]
  },
  {
   "cell_type": "code",
   "execution_count": 1,
   "id": "3741cdf5",
   "metadata": {},
   "outputs": [],
   "source": [
    "import pandas as pd\n",
    "import numpy as np\n",
    "import matplotlib.pyplot as plt\n",
    "from sklearn.linear_model import LogisticRegression\n",
    "from sklearn.pipeline import Pipeline\n",
    "from sklearn.model_selection import train_test_split, GridSearchCV\n",
    "from sklearn.metrics import plot_confusion_matrix\n",
    "from sklearn.ensemble import RandomForestClassifier, GradientBoostingClassifier\n",
    "from sklearn.preprocessing import StandardScaler\n"
   ]
  },
  {
   "cell_type": "markdown",
   "id": "22de26ce",
   "metadata": {},
   "source": [
    "## 1.2  Import Data "
   ]
  },
  {
   "cell_type": "code",
   "execution_count": 2,
   "id": "f99e8276",
   "metadata": {},
   "outputs": [
    {
     "data": {
      "text/html": [
       "<div>\n",
       "<style scoped>\n",
       "    .dataframe tbody tr th:only-of-type {\n",
       "        vertical-align: middle;\n",
       "    }\n",
       "\n",
       "    .dataframe tbody tr th {\n",
       "        vertical-align: top;\n",
       "    }\n",
       "\n",
       "    .dataframe thead th {\n",
       "        text-align: right;\n",
       "    }\n",
       "</style>\n",
       "<table border=\"1\" class=\"dataframe\">\n",
       "  <thead>\n",
       "    <tr style=\"text-align: right;\">\n",
       "      <th></th>\n",
       "      <th>pin10</th>\n",
       "      <th>est_year_construction</th>\n",
       "      <th>pct_minority</th>\n",
       "      <th>pct_single_partent_families</th>\n",
       "      <th>pct_non_english_speakers</th>\n",
       "      <th>median_hh_income</th>\n",
       "      <th>pct_hh_below_poverty</th>\n",
       "      <th>pct_hh_with_children</th>\n",
       "      <th>resident_type</th>\n",
       "      <th>hyd_year_stamped</th>\n",
       "      <th>...</th>\n",
       "      <th>building_square_feet</th>\n",
       "      <th>prior_tax_year_market_value_estimate_(land)</th>\n",
       "      <th>prior_tax_year_market_value_estimate_(building)</th>\n",
       "      <th>longitude</th>\n",
       "      <th>latitude</th>\n",
       "      <th>census_tract</th>\n",
       "      <th>property_address</th>\n",
       "      <th>age</th>\n",
       "      <th>neighborhood_code.1</th>\n",
       "      <th>cluster</th>\n",
       "    </tr>\n",
       "  </thead>\n",
       "  <tbody>\n",
       "    <tr>\n",
       "      <th>0</th>\n",
       "      <td>2930111009</td>\n",
       "      <td>1960</td>\n",
       "      <td>80.064309</td>\n",
       "      <td>57.913669</td>\n",
       "      <td>0</td>\n",
       "      <td>44107</td>\n",
       "      <td>20.967742</td>\n",
       "      <td>43.884892</td>\n",
       "      <td>two-story</td>\n",
       "      <td>2012</td>\n",
       "      <td>...</td>\n",
       "      <td>2063.0</td>\n",
       "      <td>13310.0</td>\n",
       "      <td>118330.0</td>\n",
       "      <td>-87.671160</td>\n",
       "      <td>41.583383</td>\n",
       "      <td>827700.0</td>\n",
       "      <td>16853  CRANE AVE</td>\n",
       "      <td>62</td>\n",
       "      <td>130</td>\n",
       "      <td>2</td>\n",
       "    </tr>\n",
       "    <tr>\n",
       "      <th>1</th>\n",
       "      <td>2930125045</td>\n",
       "      <td>1958</td>\n",
       "      <td>80.064309</td>\n",
       "      <td>57.913669</td>\n",
       "      <td>0</td>\n",
       "      <td>44107</td>\n",
       "      <td>20.967742</td>\n",
       "      <td>43.884892</td>\n",
       "      <td>1-plus-story</td>\n",
       "      <td>2012</td>\n",
       "      <td>...</td>\n",
       "      <td>768.0</td>\n",
       "      <td>15010.0</td>\n",
       "      <td>34560.0</td>\n",
       "      <td>-87.673116</td>\n",
       "      <td>41.580632</td>\n",
       "      <td>827700.0</td>\n",
       "      <td>2305 W 170TH ST</td>\n",
       "      <td>64</td>\n",
       "      <td>130</td>\n",
       "      <td>2</td>\n",
       "    </tr>\n",
       "    <tr>\n",
       "      <th>2</th>\n",
       "      <td>2825319003</td>\n",
       "      <td>1959</td>\n",
       "      <td>98.171846</td>\n",
       "      <td>49.226006</td>\n",
       "      <td>0</td>\n",
       "      <td>49239</td>\n",
       "      <td>17.184644</td>\n",
       "      <td>42.105263</td>\n",
       "      <td>split-level</td>\n",
       "      <td>1996</td>\n",
       "      <td>...</td>\n",
       "      <td>1411.0</td>\n",
       "      <td>21130.0</td>\n",
       "      <td>78440.0</td>\n",
       "      <td>-87.691318</td>\n",
       "      <td>41.573429</td>\n",
       "      <td>825503.0</td>\n",
       "      <td>3105  LONGFELLOW AVE</td>\n",
       "      <td>63</td>\n",
       "      <td>260</td>\n",
       "      <td>3</td>\n",
       "    </tr>\n",
       "    <tr>\n",
       "      <th>3</th>\n",
       "      <td>2930115006</td>\n",
       "      <td>1967</td>\n",
       "      <td>93.566176</td>\n",
       "      <td>65.337423</td>\n",
       "      <td>0</td>\n",
       "      <td>35789</td>\n",
       "      <td>7.720588</td>\n",
       "      <td>45.398773</td>\n",
       "      <td>two-story</td>\n",
       "      <td>1988</td>\n",
       "      <td>...</td>\n",
       "      <td>1823.0</td>\n",
       "      <td>12430.0</td>\n",
       "      <td>76210.0</td>\n",
       "      <td>-87.666394</td>\n",
       "      <td>41.583720</td>\n",
       "      <td>827700.0</td>\n",
       "      <td>16833  SHEA AVE</td>\n",
       "      <td>55</td>\n",
       "      <td>130</td>\n",
       "      <td>2</td>\n",
       "    </tr>\n",
       "    <tr>\n",
       "      <th>4</th>\n",
       "      <td>2825321029</td>\n",
       "      <td>1962</td>\n",
       "      <td>98.171846</td>\n",
       "      <td>49.226006</td>\n",
       "      <td>0</td>\n",
       "      <td>49239</td>\n",
       "      <td>17.184644</td>\n",
       "      <td>42.105263</td>\n",
       "      <td>one-story</td>\n",
       "      <td>1928</td>\n",
       "      <td>...</td>\n",
       "      <td>1602.0</td>\n",
       "      <td>35360.0</td>\n",
       "      <td>73160.0</td>\n",
       "      <td>-87.690178</td>\n",
       "      <td>41.574146</td>\n",
       "      <td>825503.0</td>\n",
       "      <td>3017  LONGFELLOW AVE</td>\n",
       "      <td>60</td>\n",
       "      <td>260</td>\n",
       "      <td>3</td>\n",
       "    </tr>\n",
       "  </tbody>\n",
       "</table>\n",
       "<p>5 rows × 27 columns</p>\n",
       "</div>"
      ],
      "text/plain": [
       "        pin10  est_year_construction  pct_minority  \\\n",
       "0  2930111009                   1960     80.064309   \n",
       "1  2930125045                   1958     80.064309   \n",
       "2  2825319003                   1959     98.171846   \n",
       "3  2930115006                   1967     93.566176   \n",
       "4  2825321029                   1962     98.171846   \n",
       "\n",
       "   pct_single_partent_families  pct_non_english_speakers  median_hh_income  \\\n",
       "0                    57.913669                         0             44107   \n",
       "1                    57.913669                         0             44107   \n",
       "2                    49.226006                         0             49239   \n",
       "3                    65.337423                         0             35789   \n",
       "4                    49.226006                         0             49239   \n",
       "\n",
       "   pct_hh_below_poverty  pct_hh_with_children resident_type  hyd_year_stamped  \\\n",
       "0             20.967742             43.884892     two-story              2012   \n",
       "1             20.967742             43.884892  1-plus-story              2012   \n",
       "2             17.184644             42.105263   split-level              1996   \n",
       "3              7.720588             45.398773     two-story              1988   \n",
       "4             17.184644             42.105263     one-story              1928   \n",
       "\n",
       "   ...  building_square_feet prior_tax_year_market_value_estimate_(land)  \\\n",
       "0  ...                2063.0                                     13310.0   \n",
       "1  ...                 768.0                                     15010.0   \n",
       "2  ...                1411.0                                     21130.0   \n",
       "3  ...                1823.0                                     12430.0   \n",
       "4  ...                1602.0                                     35360.0   \n",
       "\n",
       "   prior_tax_year_market_value_estimate_(building)  longitude   latitude  \\\n",
       "0                                         118330.0 -87.671160  41.583383   \n",
       "1                                          34560.0 -87.673116  41.580632   \n",
       "2                                          78440.0 -87.691318  41.573429   \n",
       "3                                          76210.0 -87.666394  41.583720   \n",
       "4                                          73160.0 -87.690178  41.574146   \n",
       "\n",
       "   census_tract      property_address  age  neighborhood_code.1  cluster  \n",
       "0      827700.0      16853  CRANE AVE   62                  130        2  \n",
       "1      827700.0       2305 W 170TH ST   64                  130        2  \n",
       "2      825503.0  3105  LONGFELLOW AVE   63                  260        3  \n",
       "3      827700.0       16833  SHEA AVE   55                  130        2  \n",
       "4      825503.0  3017  LONGFELLOW AVE   60                  260        3  \n",
       "\n",
       "[5 rows x 27 columns]"
      ]
     },
     "execution_count": 2,
     "metadata": {},
     "output_type": "execute_result"
    }
   ],
   "source": [
    "# Importing the dataset\n",
    "df = pd.read_csv('./Data/haz_census4.csv').drop(columns='Unnamed: 0')\n",
    "df.head()"
   ]
  },
  {
   "cell_type": "code",
   "execution_count": 3,
   "id": "f45f2fa7",
   "metadata": {},
   "outputs": [],
   "source": [
    "# Create dummy colums for the resident_type column\n",
    "dummy_column = ['resident_type']\n",
    "df = pd.get_dummies(df, columns=dummy_column, drop_first=True)"
   ]
  },
  {
   "cell_type": "code",
   "execution_count": 4,
   "id": "c0a3a054",
   "metadata": {},
   "outputs": [
    {
     "data": {
      "text/html": [
       "<div>\n",
       "<style scoped>\n",
       "    .dataframe tbody tr th:only-of-type {\n",
       "        vertical-align: middle;\n",
       "    }\n",
       "\n",
       "    .dataframe tbody tr th {\n",
       "        vertical-align: top;\n",
       "    }\n",
       "\n",
       "    .dataframe thead th {\n",
       "        text-align: right;\n",
       "    }\n",
       "</style>\n",
       "<table border=\"1\" class=\"dataframe\">\n",
       "  <thead>\n",
       "    <tr style=\"text-align: right;\">\n",
       "      <th></th>\n",
       "      <th>pin10</th>\n",
       "      <th>est_year_construction</th>\n",
       "      <th>pct_minority</th>\n",
       "      <th>pct_single_partent_families</th>\n",
       "      <th>pct_non_english_speakers</th>\n",
       "      <th>median_hh_income</th>\n",
       "      <th>pct_hh_below_poverty</th>\n",
       "      <th>pct_hh_with_children</th>\n",
       "      <th>hyd_year_stamped</th>\n",
       "      <th>g_label</th>\n",
       "      <th>...</th>\n",
       "      <th>longitude</th>\n",
       "      <th>latitude</th>\n",
       "      <th>census_tract</th>\n",
       "      <th>property_address</th>\n",
       "      <th>age</th>\n",
       "      <th>neighborhood_code.1</th>\n",
       "      <th>cluster</th>\n",
       "      <th>resident_type_one-story</th>\n",
       "      <th>resident_type_split-level</th>\n",
       "      <th>resident_type_two-story</th>\n",
       "    </tr>\n",
       "  </thead>\n",
       "  <tbody>\n",
       "    <tr>\n",
       "      <th>0</th>\n",
       "      <td>2930111009</td>\n",
       "      <td>1960</td>\n",
       "      <td>80.064309</td>\n",
       "      <td>57.913669</td>\n",
       "      <td>0</td>\n",
       "      <td>44107</td>\n",
       "      <td>20.967742</td>\n",
       "      <td>43.884892</td>\n",
       "      <td>2012</td>\n",
       "      <td>0.310206</td>\n",
       "      <td>...</td>\n",
       "      <td>-87.671160</td>\n",
       "      <td>41.583383</td>\n",
       "      <td>827700.0</td>\n",
       "      <td>16853  CRANE AVE</td>\n",
       "      <td>62</td>\n",
       "      <td>130</td>\n",
       "      <td>2</td>\n",
       "      <td>0</td>\n",
       "      <td>0</td>\n",
       "      <td>1</td>\n",
       "    </tr>\n",
       "    <tr>\n",
       "      <th>1</th>\n",
       "      <td>2930125045</td>\n",
       "      <td>1958</td>\n",
       "      <td>80.064309</td>\n",
       "      <td>57.913669</td>\n",
       "      <td>0</td>\n",
       "      <td>44107</td>\n",
       "      <td>20.967742</td>\n",
       "      <td>43.884892</td>\n",
       "      <td>2012</td>\n",
       "      <td>0.396199</td>\n",
       "      <td>...</td>\n",
       "      <td>-87.673116</td>\n",
       "      <td>41.580632</td>\n",
       "      <td>827700.0</td>\n",
       "      <td>2305 W 170TH ST</td>\n",
       "      <td>64</td>\n",
       "      <td>130</td>\n",
       "      <td>2</td>\n",
       "      <td>0</td>\n",
       "      <td>0</td>\n",
       "      <td>0</td>\n",
       "    </tr>\n",
       "    <tr>\n",
       "      <th>2</th>\n",
       "      <td>2825319003</td>\n",
       "      <td>1959</td>\n",
       "      <td>98.171846</td>\n",
       "      <td>49.226006</td>\n",
       "      <td>0</td>\n",
       "      <td>49239</td>\n",
       "      <td>17.184644</td>\n",
       "      <td>42.105263</td>\n",
       "      <td>1996</td>\n",
       "      <td>0.405210</td>\n",
       "      <td>...</td>\n",
       "      <td>-87.691318</td>\n",
       "      <td>41.573429</td>\n",
       "      <td>825503.0</td>\n",
       "      <td>3105  LONGFELLOW AVE</td>\n",
       "      <td>63</td>\n",
       "      <td>260</td>\n",
       "      <td>3</td>\n",
       "      <td>0</td>\n",
       "      <td>1</td>\n",
       "      <td>0</td>\n",
       "    </tr>\n",
       "    <tr>\n",
       "      <th>3</th>\n",
       "      <td>2930115006</td>\n",
       "      <td>1967</td>\n",
       "      <td>93.566176</td>\n",
       "      <td>65.337423</td>\n",
       "      <td>0</td>\n",
       "      <td>35789</td>\n",
       "      <td>7.720588</td>\n",
       "      <td>45.398773</td>\n",
       "      <td>1988</td>\n",
       "      <td>0.435751</td>\n",
       "      <td>...</td>\n",
       "      <td>-87.666394</td>\n",
       "      <td>41.583720</td>\n",
       "      <td>827700.0</td>\n",
       "      <td>16833  SHEA AVE</td>\n",
       "      <td>55</td>\n",
       "      <td>130</td>\n",
       "      <td>2</td>\n",
       "      <td>0</td>\n",
       "      <td>0</td>\n",
       "      <td>1</td>\n",
       "    </tr>\n",
       "    <tr>\n",
       "      <th>4</th>\n",
       "      <td>2825321029</td>\n",
       "      <td>1962</td>\n",
       "      <td>98.171846</td>\n",
       "      <td>49.226006</td>\n",
       "      <td>0</td>\n",
       "      <td>49239</td>\n",
       "      <td>17.184644</td>\n",
       "      <td>42.105263</td>\n",
       "      <td>1928</td>\n",
       "      <td>0.514053</td>\n",
       "      <td>...</td>\n",
       "      <td>-87.690178</td>\n",
       "      <td>41.574146</td>\n",
       "      <td>825503.0</td>\n",
       "      <td>3017  LONGFELLOW AVE</td>\n",
       "      <td>60</td>\n",
       "      <td>260</td>\n",
       "      <td>3</td>\n",
       "      <td>1</td>\n",
       "      <td>0</td>\n",
       "      <td>0</td>\n",
       "    </tr>\n",
       "  </tbody>\n",
       "</table>\n",
       "<p>5 rows × 29 columns</p>\n",
       "</div>"
      ],
      "text/plain": [
       "        pin10  est_year_construction  pct_minority  \\\n",
       "0  2930111009                   1960     80.064309   \n",
       "1  2930125045                   1958     80.064309   \n",
       "2  2825319003                   1959     98.171846   \n",
       "3  2930115006                   1967     93.566176   \n",
       "4  2825321029                   1962     98.171846   \n",
       "\n",
       "   pct_single_partent_families  pct_non_english_speakers  median_hh_income  \\\n",
       "0                    57.913669                         0             44107   \n",
       "1                    57.913669                         0             44107   \n",
       "2                    49.226006                         0             49239   \n",
       "3                    65.337423                         0             35789   \n",
       "4                    49.226006                         0             49239   \n",
       "\n",
       "   pct_hh_below_poverty  pct_hh_with_children  hyd_year_stamped   g_label  \\\n",
       "0             20.967742             43.884892              2012  0.310206   \n",
       "1             20.967742             43.884892              2012  0.396199   \n",
       "2             17.184644             42.105263              1996  0.405210   \n",
       "3              7.720588             45.398773              1988  0.435751   \n",
       "4             17.184644             42.105263              1928  0.514053   \n",
       "\n",
       "   ...  longitude   latitude  census_tract      property_address  age  \\\n",
       "0  ... -87.671160  41.583383      827700.0      16853  CRANE AVE   62   \n",
       "1  ... -87.673116  41.580632      827700.0       2305 W 170TH ST   64   \n",
       "2  ... -87.691318  41.573429      825503.0  3105  LONGFELLOW AVE   63   \n",
       "3  ... -87.666394  41.583720      827700.0       16833  SHEA AVE   55   \n",
       "4  ... -87.690178  41.574146      825503.0  3017  LONGFELLOW AVE   60   \n",
       "\n",
       "   neighborhood_code.1  cluster  resident_type_one-story  \\\n",
       "0                  130        2                        0   \n",
       "1                  130        2                        0   \n",
       "2                  260        3                        0   \n",
       "3                  130        2                        0   \n",
       "4                  260        3                        1   \n",
       "\n",
       "   resident_type_split-level  resident_type_two-story  \n",
       "0                          0                        1  \n",
       "1                          0                        0  \n",
       "2                          1                        0  \n",
       "3                          0                        1  \n",
       "4                          0                        0  \n",
       "\n",
       "[5 rows x 29 columns]"
      ]
     },
     "execution_count": 4,
     "metadata": {},
     "output_type": "execute_result"
    }
   ],
   "source": [
    "df.head()"
   ]
  },
  {
   "cell_type": "markdown",
   "id": "de28fb50",
   "metadata": {},
   "source": [
    "# 2.  EDA"
   ]
  },
  {
   "cell_type": "code",
   "execution_count": 5,
   "id": "23436d3a",
   "metadata": {},
   "outputs": [],
   "source": [
    "# Creating new variable\n",
    "df['prior_tax_year_market_value_estimate_(land)'] = df['prior_tax_year_market_value_estimate_(land)'].astype(np.int64)"
   ]
  },
  {
   "cell_type": "code",
   "execution_count": 6,
   "id": "b6c378d0",
   "metadata": {},
   "outputs": [],
   "source": [
    "df['prior_tax_year_market_value_estimate_(building)'] = df['prior_tax_year_market_value_estimate_(building)'].astype(np.int64)\n"
   ]
  },
  {
   "cell_type": "code",
   "execution_count": 7,
   "id": "26426276",
   "metadata": {},
   "outputs": [],
   "source": [
    "df['building_square_feet'] = df['building_square_feet'].astype(np.int64)"
   ]
  },
  {
   "cell_type": "code",
   "execution_count": 8,
   "id": "7afe9b74",
   "metadata": {},
   "outputs": [
    {
     "data": {
      "text/plain": [
       "0       8.890308\n",
       "1       2.302465\n",
       "2       3.712257\n",
       "3       6.131134\n",
       "4       2.069005\n",
       "          ...   \n",
       "3752    3.783287\n",
       "3753    4.713999\n",
       "3754    3.384805\n",
       "3755    3.723242\n",
       "3756    3.731902\n",
       "Name: prop_to_land_ratio, Length: 3757, dtype: float64"
      ]
     },
     "execution_count": 8,
     "metadata": {},
     "output_type": "execute_result"
    }
   ],
   "source": [
    "df['prop_to_land_ratio'] = df['prior_tax_year_market_value_estimate_(building)'] / df['prior_tax_year_market_value_estimate_(land)']\n",
    "df['prop_to_land_ratio']"
   ]
  },
  {
   "cell_type": "code",
   "execution_count": 9,
   "id": "f18e2407",
   "metadata": {},
   "outputs": [
    {
     "data": {
      "text/plain": [
       "0       5\n",
       "1       5\n",
       "2       5\n",
       "3       5\n",
       "4       5\n",
       "       ..\n",
       "3752    2\n",
       "3753    2\n",
       "3754    2\n",
       "3755    2\n",
       "3756    2\n",
       "Name: prob_g_lsl_num, Length: 3757, dtype: int64"
      ]
     },
     "execution_count": 9,
     "metadata": {},
     "output_type": "execute_result"
    }
   ],
   "source": [
    "# Mapping the lead column\n",
    "prob_g_num = {\n",
    "    'Assumed Non-Lead':1,\n",
    "    'Unlikely Lead':2,\n",
    "    'Maybe Lead':3,\n",
    "    'Likely Lead':4,\n",
    "    'Assumed Lead':5\n",
    "}\n",
    "df['prob_g_lsl_num'] = df['prob_g_lsl'].map(prob_g_num)\n",
    "df['prob_g_lsl_num']"
   ]
  },
  {
   "cell_type": "code",
   "execution_count": 11,
   "id": "0705025e",
   "metadata": {},
   "outputs": [
    {
     "data": {
      "text/plain": [
       "<AxesSubplot:>"
      ]
     },
     "execution_count": 11,
     "metadata": {},
     "output_type": "execute_result"
    },
    {
     "data": {
      "image/png": "[encoded data removed]",
      "text/plain": [
       "<Figure size 720x1440 with 2 Axes>"
      ]
     },
     "metadata": {
      "needs_background": "light"
     },
     "output_type": "display_data"
    }
   ],
   "source": [
    "import seaborn as sns\n",
    "corr = df.corr()[['prob_g_lsl_num']].sort_values(by='prob_g_lsl_num', ascending=False)\n",
    "plt.figure(figsize=(10, 20))\n",
    "mask = np.zeros_like(corr)\n",
    "mask[np.triu_indices_from(mask)] = True\n",
    "sns.heatmap(corr, cmap='coolwarm', vmin=-1, vmax=1, annot=True, mask=mask)\n",
    "#plt.savefig('../Visuals/hazel_heatmap.png');"
   ]
  },
  {
   "cell_type": "code",
   "execution_count": 12,
   "id": "e9e0a227",
   "metadata": {},
   "outputs": [
    {
     "data": {
      "text/plain": [
       "Index(['pin10', 'est_year_construction', 'pct_minority',\n",
       "       'pct_single_partent_families', 'pct_non_english_speakers',\n",
       "       'median_hh_income', 'pct_hh_below_poverty', 'pct_hh_with_children',\n",
       "       'hyd_year_stamped', 'g_label', 'prob_g_lsl', 'unnamed:_0',\n",
       "       'property_class', 'neighborhood_code', 'town_code', 'type_of_residence',\n",
       "       'building_square_feet', 'prior_tax_year_market_value_estimate_(land)',\n",
       "       'prior_tax_year_market_value_estimate_(building)', 'longitude',\n",
       "       'latitude', 'census_tract', 'property_address', 'age',\n",
       "       'neighborhood_code.1', 'cluster', 'resident_type_one-story',\n",
       "       'resident_type_split-level', 'resident_type_two-story',\n",
       "       'prop_to_land_ratio', 'prob_g_lsl_num'],\n",
       "      dtype='object')"
      ]
     },
     "execution_count": 12,
     "metadata": {},
     "output_type": "execute_result"
    }
   ],
   "source": [
    "df.columns"
   ]
  },
  {
   "cell_type": "markdown",
   "id": "37f3457f",
   "metadata": {},
   "source": [
    "# 2. Models"
   ]
  },
  {
   "cell_type": "markdown",
   "id": "37a631af",
   "metadata": {},
   "source": [
    "## 2.1  Using Original Variables plus the ones engineered above"
   ]
  },
  {
   "cell_type": "code",
   "execution_count": 14,
   "id": "487e5eab",
   "metadata": {},
   "outputs": [],
   "source": [
    "X = df[['est_year_construction', 'prior_tax_year_market_value_estimate_(building)', 'prop_to_land_ratio',\n",
    "       'hyd_year_stamped', 'resident_type_one-story', 'resident_type_split-level', 'resident_type_two-story']]\n",
    "y = df['prob_g_lsl_num']"
   ]
  },
  {
   "cell_type": "code",
   "execution_count": 15,
   "id": "75230807",
   "metadata": {},
   "outputs": [],
   "source": [
    "X_train, X_test, y_train, y_test = train_test_split(X, y, random_state=42, stratify=y)"
   ]
  },
  {
   "cell_type": "markdown",
   "id": "4a941268",
   "metadata": {},
   "source": [
    "### Logistic Regression"
   ]
  },
  {
   "cell_type": "code",
   "execution_count": 16,
   "id": "22ee8792",
   "metadata": {},
   "outputs": [],
   "source": [
    "pipe = Pipeline([\n",
    "    ('logreg', LogisticRegression())\n",
    "])"
   ]
  },
  {
   "cell_type": "code",
   "execution_count": 17,
   "id": "e7138168",
   "metadata": {},
   "outputs": [
    {
     "name": "stdout",
     "output_type": "stream",
     "text": [
      "0.6130512830202941\n"
     ]
    },
    {
     "data": {
      "text/plain": [
       "{'logreg__C': 100,\n",
       " 'logreg__class_weight': None,\n",
       " 'logreg__max_iter': 30000,\n",
       " 'logreg__penalty': 'l2'}"
      ]
     },
     "execution_count": 17,
     "metadata": {},
     "output_type": "execute_result"
    }
   ],
   "source": [
    "params = {\n",
    "    'logreg__penalty':['l2'],\n",
    "    'logreg__C': [100],\n",
    "    'logreg__class_weight': [None],\n",
    "    'logreg__max_iter':[30000]\n",
    "}\n",
    "gs = GridSearchCV(pipe, param_grid=params)\n",
    "gs.fit(X_train, y_train)\n",
    "print(gs.best_score_)\n",
    "gs.best_params_"
   ]
  },
  {
   "cell_type": "markdown",
   "id": "7a72c2a2",
   "metadata": {},
   "source": [
    "### Random Forest Classifier"
   ]
  },
  {
   "cell_type": "code",
   "execution_count": 18,
   "id": "ac87ef60",
   "metadata": {},
   "outputs": [],
   "source": [
    "pipe2 = Pipeline([\n",
    "    ('ss', StandardScaler()),\n",
    "    ('rf', RandomForestClassifier()) \n",
    "])"
   ]
  },
  {
   "cell_type": "code",
   "execution_count": 19,
   "id": "1dcd3a4c",
   "metadata": {},
   "outputs": [
    {
     "name": "stdout",
     "output_type": "stream",
     "text": [
      "0.9009586435382891\n"
     ]
    },
    {
     "data": {
      "text/plain": [
       "{'rf__max_depth': 70,\n",
       " 'rf__min_samples_leaf': 1,\n",
       " 'rf__min_samples_split': 3,\n",
       " 'rf__n_estimators': 150}"
      ]
     },
     "execution_count": 19,
     "metadata": {},
     "output_type": "execute_result"
    }
   ],
   "source": [
    "params2 = {\n",
    "    'rf__n_estimators': [150],\n",
    "    'rf__max_depth': [70],\n",
    "    'rf__min_samples_leaf': [1],\n",
    "    'rf__min_samples_split': [3] \n",
    "}\n",
    "\n",
    "gs2 = GridSearchCV(pipe2, param_grid=params2)\n",
    "gs2.fit(X_train, y_train)\n",
    "print(gs2.best_score_)\n",
    "gs2.best_params_"
   ]
  },
  {
   "cell_type": "markdown",
   "id": "e6316d08",
   "metadata": {},
   "source": [
    "### Gradient Boost"
   ]
  },
  {
   "cell_type": "code",
   "execution_count": 20,
   "id": "ee70c253",
   "metadata": {},
   "outputs": [],
   "source": [
    "pipe3 = Pipeline([\n",
    "    ('ss', StandardScaler()),\n",
    "    ('boost', GradientBoostingClassifier(random_state=42, n_iter_no_change=10000))\n",
    "])"
   ]
  },
  {
   "cell_type": "code",
   "execution_count": 21,
   "id": "ee163a2f",
   "metadata": {},
   "outputs": [
    {
     "name": "stdout",
     "output_type": "stream",
     "text": [
      "0.8938551075167227\n"
     ]
    },
    {
     "data": {
      "text/plain": [
       "{'boost__learning_rate': 0.5,\n",
       " 'boost__loss': 'deviance',\n",
       " 'boost__max_depth': 6,\n",
       " 'boost__min_samples_leaf': 1,\n",
       " 'boost__min_samples_split': 2,\n",
       " 'boost__n_estimators': 300}"
      ]
     },
     "execution_count": 21,
     "metadata": {},
     "output_type": "execute_result"
    }
   ],
   "source": [
    "params3 = {\n",
    "    'boost__loss': ['deviance'],\n",
    "    'boost__learning_rate': [.5],\n",
    "    'boost__n_estimators': [300],\n",
    "    'boost__min_samples_leaf': [1],\n",
    "    'boost__min_samples_split': [2],\n",
    "    'boost__max_depth': [6]\n",
    "    \n",
    "}\n",
    "gs3 = GridSearchCV(pipe3, param_grid=params3)\n",
    "gs3.fit(X_train, y_train)\n",
    "print(gs3.best_score_)\n",
    "gs3.best_params_"
   ]
  },
  {
   "cell_type": "code",
   "execution_count": 22,
   "id": "e6bb3d40",
   "metadata": {},
   "outputs": [
    {
     "name": "stdout",
     "output_type": "stream",
     "text": [
      "Logistic Regression Train Score is: 0.6148384806531771\n",
      "Logistic Regression Test Score is: 0.6595744680851063\n",
      "Random Forest Train Score is: 0.9989350372736954\n",
      "Random Forest Test Score is: 0.9148936170212766\n",
      "Boosted Trees Train Score is: 0.9914802981895634\n",
      "Boosted Tress Test Score is: 0.898936170212766\n"
     ]
    }
   ],
   "source": [
    "# Print out Scores for the models\n",
    "print(f'Logistic Regression Train Score is: {gs.score(X_train,y_train)}')\n",
    "print(f'Logistic Regression Test Score is: {gs.score(X_test,y_test)}')\n",
    "\n",
    "\n",
    "print(f'Random Forest Train Score is: {gs2.score(X_train,y_train)}')\n",
    "print(f'Random Forest Test Score is: {gs2.score(X_test,y_test)}')\n",
    "\n",
    "\n",
    "print(f'Boosted Trees Train Score is: {gs3.score(X_train,y_train)}')\n",
    "print(f'Boosted Tress Test Score is: {gs3.score(X_test,y_test)}')"
   ]
  },
  {
   "cell_type": "markdown",
   "id": "ea905424",
   "metadata": {},
   "source": [
    "## 2.2  Add new features\n",
    "#### The following columns are added to the models\n",
    "* pct_single_partent_families\n",
    "* median_hh_income\n",
    "* building_square_feet\n",
    "* cluster"
   ]
  },
  {
   "cell_type": "code",
   "execution_count": 23,
   "id": "426db5b8",
   "metadata": {},
   "outputs": [],
   "source": [
    "X2 = df[['est_year_construction', 'prior_tax_year_market_value_estimate_(building)', 'prop_to_land_ratio',\n",
    "        'hyd_year_stamped', 'resident_type_one-story', 'resident_type_split-level', 'resident_type_two-story', \n",
    "        'pct_single_partent_families', 'median_hh_income', 'building_square_feet',  'cluster']]"
   ]
  },
  {
   "cell_type": "code",
   "execution_count": 24,
   "id": "2fc5ac88",
   "metadata": {},
   "outputs": [],
   "source": [
    "X_train, X_test, y_train, y_test = train_test_split(X2, y, random_state=42, stratify=y)"
   ]
  },
  {
   "cell_type": "markdown",
   "id": "3b2b708f",
   "metadata": {},
   "source": [
    "### Logistic Regression"
   ]
  },
  {
   "cell_type": "code",
   "execution_count": 25,
   "id": "f8d2ef16",
   "metadata": {},
   "outputs": [
    {
     "name": "stderr",
     "output_type": "stream",
     "text": [
      "C:\\Users\\Ale\\anaconda3\\lib\\site-packages\\sklearn\\linear_model\\_logistic.py:763: ConvergenceWarning: lbfgs failed to converge (status=1):\n",
      "STOP: TOTAL NO. of f AND g EVALUATIONS EXCEEDS LIMIT.\n",
      "\n",
      "Increase the number of iterations (max_iter) or scale the data as shown in:\n",
      "    https://scikit-learn.org/stable/modules/preprocessing.html\n",
      "Please also refer to the documentation for alternative solver options:\n",
      "    https://scikit-learn.org/stable/modules/linear_model.html#logistic-regression\n",
      "  n_iter_i = _check_optimize_result(\n",
      "C:\\Users\\Ale\\anaconda3\\lib\\site-packages\\sklearn\\linear_model\\_logistic.py:763: ConvergenceWarning: lbfgs failed to converge (status=1):\n",
      "STOP: TOTAL NO. of f AND g EVALUATIONS EXCEEDS LIMIT.\n",
      "\n",
      "Increase the number of iterations (max_iter) or scale the data as shown in:\n",
      "    https://scikit-learn.org/stable/modules/preprocessing.html\n",
      "Please also refer to the documentation for alternative solver options:\n",
      "    https://scikit-learn.org/stable/modules/linear_model.html#logistic-regression\n",
      "  n_iter_i = _check_optimize_result(\n",
      "C:\\Users\\Ale\\anaconda3\\lib\\site-packages\\sklearn\\linear_model\\_logistic.py:763: ConvergenceWarning: lbfgs failed to converge (status=1):\n",
      "STOP: TOTAL NO. of f AND g EVALUATIONS EXCEEDS LIMIT.\n",
      "\n",
      "Increase the number of iterations (max_iter) or scale the data as shown in:\n",
      "    https://scikit-learn.org/stable/modules/preprocessing.html\n",
      "Please also refer to the documentation for alternative solver options:\n",
      "    https://scikit-learn.org/stable/modules/linear_model.html#logistic-regression\n",
      "  n_iter_i = _check_optimize_result(\n"
     ]
    },
    {
     "name": "stdout",
     "output_type": "stream",
     "text": [
      "0.7202663038685865\n"
     ]
    },
    {
     "data": {
      "text/plain": [
       "{'logreg__C': 100,\n",
       " 'logreg__class_weight': None,\n",
       " 'logreg__max_iter': 30000,\n",
       " 'logreg__penalty': 'l2'}"
      ]
     },
     "execution_count": 25,
     "metadata": {},
     "output_type": "execute_result"
    }
   ],
   "source": [
    "params = {\n",
    "    'logreg__penalty':['l2'],\n",
    "    'logreg__C': [100],\n",
    "    'logreg__class_weight': [None],\n",
    "    'logreg__max_iter':[30000]\n",
    "}\n",
    "gs = GridSearchCV(pipe, param_grid=params)\n",
    "gs.fit(X_train, y_train)\n",
    "print(gs.best_score_)\n",
    "gs.best_params_"
   ]
  },
  {
   "cell_type": "markdown",
   "id": "a670118d",
   "metadata": {},
   "source": [
    "### Random Forest Classifier"
   ]
  },
  {
   "cell_type": "code",
   "execution_count": 26,
   "id": "0995fed5",
   "metadata": {},
   "outputs": [
    {
     "name": "stdout",
     "output_type": "stream",
     "text": [
      "0.9382317372737236\n"
     ]
    },
    {
     "data": {
      "text/plain": [
       "{'rf__max_depth': 60,\n",
       " 'rf__min_samples_leaf': 1,\n",
       " 'rf__min_samples_split': 5,\n",
       " 'rf__n_estimators': 150}"
      ]
     },
     "execution_count": 26,
     "metadata": {},
     "output_type": "execute_result"
    }
   ],
   "source": [
    "params2 = {\n",
    "    'rf__n_estimators': [150],\n",
    "    'rf__max_depth': [60],\n",
    "    'rf__min_samples_leaf': [1],\n",
    "    'rf__min_samples_split': [5] \n",
    "}\n",
    "\n",
    "gs2 = GridSearchCV(pipe2, param_grid=params2)\n",
    "gs2.fit(X_train, y_train)\n",
    "print(gs2.best_score_)\n",
    "gs2.best_params_"
   ]
  },
  {
   "cell_type": "markdown",
   "id": "6cb7a4d1",
   "metadata": {},
   "source": [
    "### Gradient Boost"
   ]
  },
  {
   "cell_type": "code",
   "execution_count": 27,
   "id": "afdb5d1c",
   "metadata": {},
   "outputs": [
    {
     "name": "stdout",
     "output_type": "stream",
     "text": [
      "0.931486590327904\n"
     ]
    },
    {
     "data": {
      "text/plain": [
       "{'boost__learning_rate': 0.7,\n",
       " 'boost__loss': 'deviance',\n",
       " 'boost__max_depth': 3,\n",
       " 'boost__min_samples_leaf': 1,\n",
       " 'boost__min_samples_split': 2,\n",
       " 'boost__n_estimators': 100}"
      ]
     },
     "execution_count": 27,
     "metadata": {},
     "output_type": "execute_result"
    }
   ],
   "source": [
    "params3 = {\n",
    "    'boost__loss': ['deviance'],\n",
    "    'boost__learning_rate': [.7],\n",
    "    'boost__n_estimators': [100],\n",
    "    'boost__min_samples_leaf': [1],\n",
    "    'boost__min_samples_split': [2],\n",
    "    'boost__max_depth': [3]\n",
    "    \n",
    "}\n",
    "gs3 = GridSearchCV(pipe3, param_grid=params3)\n",
    "gs3.fit(X_train, y_train)\n",
    "print(gs3.best_score_)\n",
    "gs3.best_params_"
   ]
  },
  {
   "cell_type": "code",
   "execution_count": 28,
   "id": "cbad8cbc",
   "metadata": {},
   "outputs": [
    {
     "name": "stdout",
     "output_type": "stream",
     "text": [
      "Logistic Regression Train Score is: 0.7145899893503728\n",
      "Logistic Regression Test Score is: 0.7563829787234042\n",
      "Random Forest Train Score is: 0.9914802981895634\n",
      "Random Forest Test Score is: 0.9425531914893617\n",
      "Boosted Trees Train Score is: 0.9811856585019524\n",
      "Boosted Tress Test Score is: 0.9382978723404255\n"
     ]
    }
   ],
   "source": [
    "# Print out Scores for the models\n",
    "print(f'Logistic Regression Train Score is: {gs.score(X_train,y_train)}')\n",
    "print(f'Logistic Regression Test Score is: {gs.score(X_test,y_test)}')\n",
    "\n",
    "\n",
    "print(f'Random Forest Train Score is: {gs2.score(X_train,y_train)}')\n",
    "print(f'Random Forest Test Score is: {gs2.score(X_test,y_test)}')\n",
    "\n",
    "\n",
    "print(f'Boosted Trees Train Score is: {gs3.score(X_train,y_train)}')\n",
    "print(f'Boosted Tress Test Score is: {gs3.score(X_test,y_test)}')"
   ]
  },
  {
   "cell_type": "code",
   "execution_count": 29,
   "id": "7d1f24e1",
   "metadata": {},
   "outputs": [
    {
     "data": {
      "image/png": "[encoded data removed]",
      "text/plain": [
       "<Figure size 864x864 with 2 Axes>"
      ]
     },
     "metadata": {
      "needs_background": "light"
     },
     "output_type": "display_data"
    }
   ],
   "source": [
    "fig, ax = plt.subplots(figsize=(12, 12))\n",
    "plot_confusion_matrix(gs, X_test, y_test, display_labels=[ 'Assumed Non-Lead', 'Unlikely Lead', 'Maybe Lead',\n",
    "                                                          'Likely Lead','Assumed Lead'], ax=ax)\n",
    "plt.xticks(rotation=45)\n",
    "plt.title('Logistic Regression Confusion Matrix', size=15)\n",
    "plt.xlabel('Predicted Label', size=12)\n",
    "plt.ylabel('True Label', size=12);"
   ]
  },
  {
   "cell_type": "code",
   "execution_count": 30,
   "id": "cd4ecdce",
   "metadata": {},
   "outputs": [
    {
     "data": {
      "image/png": "[encoded data removed]",
      "text/plain": [
       "<Figure size 864x864 with 2 Axes>"
      ]
     },
     "metadata": {
      "needs_background": "light"
     },
     "output_type": "display_data"
    }
   ],
   "source": [
    "fig, ax = plt.subplots(figsize=(12, 12))\n",
    "plot_confusion_matrix(gs2, X_test, y_test, display_labels=[ 'Assumed Non-Lead', 'Unlikely Lead', 'Maybe Lead',\n",
    "                                                          'Likely Lead','Assumed Lead'], ax=ax)\n",
    "plt.xticks(rotation=45)\n",
    "plt.title('Logistic Regression Confusion Matrix', size=15)\n",
    "plt.xlabel('Predicted Label', size=12)\n",
    "plt.ylabel('True Label', size=12);"
   ]
  },
  {
   "cell_type": "code",
   "execution_count": 31,
   "id": "423dfaa5",
   "metadata": {},
   "outputs": [
    {
     "data": {
      "image/png": "[encoded data removed]",
      "text/plain": [
       "<Figure size 864x864 with 2 Axes>"
      ]
     },
     "metadata": {
      "needs_background": "light"
     },
     "output_type": "display_data"
    }
   ],
   "source": [
    "fig, ax = plt.subplots(figsize=(12, 12))\n",
    "plot_confusion_matrix(gs3, X_test, y_test, display_labels=[ 'Assumed Non-Lead', 'Unlikely Lead', 'Maybe Lead',\n",
    "                                                          'Likely Lead','Assumed Lead'], ax=ax)\n",
    "plt.xticks(rotation=45)\n",
    "plt.title('Logistic Regression Confusion Matrix', size=15)\n",
    "plt.xlabel('Predicted Label', size=12)\n",
    "plt.ylabel('True Label', size=12);"
   ]
  },
  {
   "cell_type": "code",
   "execution_count": 32,
   "id": "c5574f82",
   "metadata": {},
   "outputs": [],
   "source": [
    "# Random forest was the best model.  We will use this one for the predictions\n",
    "y_pred1 = gs2.predict(X_test)"
   ]
  },
  {
   "cell_type": "code",
   "execution_count": 33,
   "id": "657e5e9d",
   "metadata": {},
   "outputs": [
    {
     "name": "stdout",
     "output_type": "stream",
     "text": [
      "\n",
      "Accuracy: 0.94\n",
      "\n",
      "Micro Precision: 0.94\n",
      "Micro Recall: 0.94\n",
      "Micro F1-score: 0.94\n",
      "\n",
      "Macro Precision: 0.75\n",
      "Macro Recall: 0.76\n",
      "Macro F1-score: 0.76\n",
      "\n",
      "Weighted Precision: 0.94\n",
      "Weighted Recall: 0.94\n",
      "Weighted F1-score: 0.94\n"
     ]
    }
   ],
   "source": [
    "# Inspiration https://towardsdatascience.com/confusion-matrix-for-your-multi-class-machine-learning-model-ff9aa3bf7826\n",
    "from sklearn.metrics import accuracy_score, precision_score, recall_score, f1_score\n",
    "print('\\nAccuracy: {:.2f}\\n'.format(accuracy_score(y_test, y_pred1)))\n",
    "\n",
    "print('Micro Precision: {:.2f}'.format(precision_score(y_test, y_pred1, average='micro', zero_division=0)))\n",
    "print('Micro Recall: {:.2f}'.format(recall_score(y_test, y_pred1, average='micro')))\n",
    "print('Micro F1-score: {:.2f}\\n'.format(f1_score(y_test, y_pred1, average='micro')))\n",
    "\n",
    "print('Macro Precision: {:.2f}'.format(precision_score(y_test, y_pred1, average='macro', zero_division=0)))\n",
    "print('Macro Recall: {:.2f}'.format(recall_score(y_test, y_pred1, average='macro')))\n",
    "print('Macro F1-score: {:.2f}\\n'.format(f1_score(y_test, y_pred1, average='macro')))\n",
    "\n",
    "print('Weighted Precision: {:.2f}'.format(precision_score(y_test, y_pred1, average='weighted', zero_division=0)))\n",
    "print('Weighted Recall: {:.2f}'.format(recall_score(y_test, y_pred1, average='weighted')))\n",
    "print('Weighted F1-score: {:.2f}'.format(f1_score(y_test, y_pred1, average='weighted')))\n"
   ]
  },
  {
   "cell_type": "markdown",
   "id": "7c5eb11d",
   "metadata": {},
   "source": [
    "## Test on whole dataset"
   ]
  },
  {
   "cell_type": "code",
   "execution_count": 34,
   "id": "d822f081",
   "metadata": {},
   "outputs": [],
   "source": [
    "rf1 = RandomForestClassifier(n_estimators = 150, max_depth=60, min_samples_leaf=1, min_samples_split=5)"
   ]
  },
  {
   "cell_type": "code",
   "execution_count": 35,
   "id": "a444454d",
   "metadata": {},
   "outputs": [
    {
     "data": {
      "text/plain": [
       "RandomForestClassifier(max_depth=60, min_samples_split=5, n_estimators=150)"
      ]
     },
     "execution_count": 35,
     "metadata": {},
     "output_type": "execute_result"
    }
   ],
   "source": [
    "rf1.fit(X_train, y_train)"
   ]
  },
  {
   "cell_type": "code",
   "execution_count": 36,
   "id": "44ed8cda",
   "metadata": {},
   "outputs": [],
   "source": [
    "real_pred = rf1.predict(X2)"
   ]
  },
  {
   "cell_type": "code",
   "execution_count": 37,
   "id": "857eeb82",
   "metadata": {},
   "outputs": [
    {
     "name": "stdout",
     "output_type": "stream",
     "text": [
      "Random Forest Train Score is: 0.9811019430396593\n",
      "Random Forest Test Score is: 0.9811019430396593\n"
     ]
    }
   ],
   "source": [
    "print(f'Random Forest Train Score is: {rf1.score(X2,y)}')\n",
    "print(f'Random Forest Test Score is: {rf1.score(X2,y)}')"
   ]
  },
  {
   "cell_type": "code",
   "execution_count": 38,
   "id": "8a0e7fbb",
   "metadata": {},
   "outputs": [
    {
     "data": {
      "image/png": "[encoded data removed]",
      "text/plain": [
       "<Figure size 864x864 with 2 Axes>"
      ]
     },
     "metadata": {
      "needs_background": "light"
     },
     "output_type": "display_data"
    }
   ],
   "source": [
    "fig, ax = plt.subplots(figsize=(12, 12))\n",
    "plot_confusion_matrix(rf1, X2, y, display_labels=[ 'Assumed Non-Lead', 'Unlikely Lead', 'Maybe Lead',\n",
    "                                                          'Likely Lead','Assumed Lead'], ax=ax)\n",
    "plt.xticks(rotation=45)\n",
    "plt.title('Boosted Trees Confusion Matrix', size=15)\n",
    "plt.xlabel('Predicted Label', size=12)\n",
    "plt.ylabel('True Label', size=12);"
   ]
  },
  {
   "cell_type": "code",
   "execution_count": 39,
   "id": "5e95dba0",
   "metadata": {},
   "outputs": [
    {
     "name": "stdout",
     "output_type": "stream",
     "text": [
      "\n",
      "Accuracy: 0.98\n",
      "\n",
      "Micro Precision: 0.98\n",
      "Micro Recall: 0.98\n",
      "Micro F1-score: 0.98\n",
      "\n",
      "Macro Precision: 0.98\n",
      "Macro Recall: 0.85\n",
      "Macro F1-score: 0.88\n",
      "\n",
      "Weighted Precision: 0.98\n",
      "Weighted Recall: 0.98\n",
      "Weighted F1-score: 0.98\n"
     ]
    }
   ],
   "source": [
    "# Inspiration https://towardsdatascience.com/confusion-matrix-for-your-multi-class-machine-learning-model-ff9aa3bf7826\n",
    "from sklearn.metrics import accuracy_score, precision_score, recall_score, f1_score\n",
    "print('\\nAccuracy: {:.2f}\\n'.format(accuracy_score(y, real_pred)))\n",
    "\n",
    "print('Micro Precision: {:.2f}'.format(precision_score(y, real_pred, average='micro', zero_division=0)))\n",
    "print('Micro Recall: {:.2f}'.format(recall_score(y, real_pred, average='micro')))\n",
    "print('Micro F1-score: {:.2f}\\n'.format(f1_score(y, real_pred, average='micro')))\n",
    "\n",
    "print('Macro Precision: {:.2f}'.format(precision_score(y, real_pred, average='macro', zero_division=0)))\n",
    "print('Macro Recall: {:.2f}'.format(recall_score(y, real_pred, average='macro')))\n",
    "print('Macro F1-score: {:.2f}\\n'.format(f1_score(y, real_pred, average='macro')))\n",
    "\n",
    "print('Weighted Precision: {:.2f}'.format(precision_score(y, real_pred, average='weighted', zero_division=0)))\n",
    "print('Weighted Recall: {:.2f}'.format(recall_score(y, real_pred, average='weighted')))\n",
    "print('Weighted F1-score: {:.2f}'.format(f1_score(y, real_pred, average='weighted')))"
   ]
  },
  {
   "cell_type": "code",
   "execution_count": 40,
   "id": "3b8158be",
   "metadata": {},
   "outputs": [
    {
     "name": "stdout",
     "output_type": "stream",
     "text": [
      "RMS: 0.1663780661615406 \n"
     ]
    }
   ],
   "source": [
    "print(\"RMS: %r \" % np.sqrt(np.mean((real_pred - y) ** 2)))"
   ]
  },
  {
   "cell_type": "code",
   "execution_count": 41,
   "id": "58275564",
   "metadata": {},
   "outputs": [],
   "source": [
    "df['our_pred'] = real_pred"
   ]
  },
  {
   "cell_type": "code",
   "execution_count": 42,
   "id": "e6006ac1",
   "metadata": {},
   "outputs": [
    {
     "data": {
      "text/html": [
       "<div>\n",
       "<style scoped>\n",
       "    .dataframe tbody tr th:only-of-type {\n",
       "        vertical-align: middle;\n",
       "    }\n",
       "\n",
       "    .dataframe tbody tr th {\n",
       "        vertical-align: top;\n",
       "    }\n",
       "\n",
       "    .dataframe thead th {\n",
       "        text-align: right;\n",
       "    }\n",
       "</style>\n",
       "<table border=\"1\" class=\"dataframe\">\n",
       "  <thead>\n",
       "    <tr style=\"text-align: right;\">\n",
       "      <th></th>\n",
       "      <th>pin10</th>\n",
       "      <th>est_year_construction</th>\n",
       "      <th>pct_minority</th>\n",
       "      <th>pct_single_partent_families</th>\n",
       "      <th>pct_non_english_speakers</th>\n",
       "      <th>median_hh_income</th>\n",
       "      <th>pct_hh_below_poverty</th>\n",
       "      <th>pct_hh_with_children</th>\n",
       "      <th>hyd_year_stamped</th>\n",
       "      <th>g_label</th>\n",
       "      <th>...</th>\n",
       "      <th>property_address</th>\n",
       "      <th>age</th>\n",
       "      <th>neighborhood_code.1</th>\n",
       "      <th>cluster</th>\n",
       "      <th>resident_type_one-story</th>\n",
       "      <th>resident_type_split-level</th>\n",
       "      <th>resident_type_two-story</th>\n",
       "      <th>prop_to_land_ratio</th>\n",
       "      <th>prob_g_lsl_num</th>\n",
       "      <th>our_pred</th>\n",
       "    </tr>\n",
       "  </thead>\n",
       "  <tbody>\n",
       "    <tr>\n",
       "      <th>0</th>\n",
       "      <td>2930111009</td>\n",
       "      <td>1960</td>\n",
       "      <td>80.064309</td>\n",
       "      <td>57.913669</td>\n",
       "      <td>0</td>\n",
       "      <td>44107</td>\n",
       "      <td>20.967742</td>\n",
       "      <td>43.884892</td>\n",
       "      <td>2012</td>\n",
       "      <td>0.310206</td>\n",
       "      <td>...</td>\n",
       "      <td>16853  CRANE AVE</td>\n",
       "      <td>62</td>\n",
       "      <td>130</td>\n",
       "      <td>2</td>\n",
       "      <td>0</td>\n",
       "      <td>0</td>\n",
       "      <td>1</td>\n",
       "      <td>8.890308</td>\n",
       "      <td>5</td>\n",
       "      <td>3</td>\n",
       "    </tr>\n",
       "    <tr>\n",
       "      <th>1</th>\n",
       "      <td>2930125045</td>\n",
       "      <td>1958</td>\n",
       "      <td>80.064309</td>\n",
       "      <td>57.913669</td>\n",
       "      <td>0</td>\n",
       "      <td>44107</td>\n",
       "      <td>20.967742</td>\n",
       "      <td>43.884892</td>\n",
       "      <td>2012</td>\n",
       "      <td>0.396199</td>\n",
       "      <td>...</td>\n",
       "      <td>2305 W 170TH ST</td>\n",
       "      <td>64</td>\n",
       "      <td>130</td>\n",
       "      <td>2</td>\n",
       "      <td>0</td>\n",
       "      <td>0</td>\n",
       "      <td>0</td>\n",
       "      <td>2.302465</td>\n",
       "      <td>5</td>\n",
       "      <td>3</td>\n",
       "    </tr>\n",
       "    <tr>\n",
       "      <th>2</th>\n",
       "      <td>2825319003</td>\n",
       "      <td>1959</td>\n",
       "      <td>98.171846</td>\n",
       "      <td>49.226006</td>\n",
       "      <td>0</td>\n",
       "      <td>49239</td>\n",
       "      <td>17.184644</td>\n",
       "      <td>42.105263</td>\n",
       "      <td>1996</td>\n",
       "      <td>0.405210</td>\n",
       "      <td>...</td>\n",
       "      <td>3105  LONGFELLOW AVE</td>\n",
       "      <td>63</td>\n",
       "      <td>260</td>\n",
       "      <td>3</td>\n",
       "      <td>0</td>\n",
       "      <td>1</td>\n",
       "      <td>0</td>\n",
       "      <td>3.712257</td>\n",
       "      <td>5</td>\n",
       "      <td>3</td>\n",
       "    </tr>\n",
       "    <tr>\n",
       "      <th>3</th>\n",
       "      <td>2930115006</td>\n",
       "      <td>1967</td>\n",
       "      <td>93.566176</td>\n",
       "      <td>65.337423</td>\n",
       "      <td>0</td>\n",
       "      <td>35789</td>\n",
       "      <td>7.720588</td>\n",
       "      <td>45.398773</td>\n",
       "      <td>1988</td>\n",
       "      <td>0.435751</td>\n",
       "      <td>...</td>\n",
       "      <td>16833  SHEA AVE</td>\n",
       "      <td>55</td>\n",
       "      <td>130</td>\n",
       "      <td>2</td>\n",
       "      <td>0</td>\n",
       "      <td>0</td>\n",
       "      <td>1</td>\n",
       "      <td>6.131134</td>\n",
       "      <td>5</td>\n",
       "      <td>3</td>\n",
       "    </tr>\n",
       "    <tr>\n",
       "      <th>6</th>\n",
       "      <td>2825327002</td>\n",
       "      <td>1957</td>\n",
       "      <td>98.171846</td>\n",
       "      <td>49.226006</td>\n",
       "      <td>0</td>\n",
       "      <td>49239</td>\n",
       "      <td>17.184644</td>\n",
       "      <td>42.105263</td>\n",
       "      <td>1996</td>\n",
       "      <td>0.522469</td>\n",
       "      <td>...</td>\n",
       "      <td>17403  LONGFELLOW AVE</td>\n",
       "      <td>65</td>\n",
       "      <td>260</td>\n",
       "      <td>3</td>\n",
       "      <td>1</td>\n",
       "      <td>0</td>\n",
       "      <td>0</td>\n",
       "      <td>3.867813</td>\n",
       "      <td>5</td>\n",
       "      <td>3</td>\n",
       "    </tr>\n",
       "    <tr>\n",
       "      <th>...</th>\n",
       "      <td>...</td>\n",
       "      <td>...</td>\n",
       "      <td>...</td>\n",
       "      <td>...</td>\n",
       "      <td>...</td>\n",
       "      <td>...</td>\n",
       "      <td>...</td>\n",
       "      <td>...</td>\n",
       "      <td>...</td>\n",
       "      <td>...</td>\n",
       "      <td>...</td>\n",
       "      <td>...</td>\n",
       "      <td>...</td>\n",
       "      <td>...</td>\n",
       "      <td>...</td>\n",
       "      <td>...</td>\n",
       "      <td>...</td>\n",
       "      <td>...</td>\n",
       "      <td>...</td>\n",
       "      <td>...</td>\n",
       "      <td>...</td>\n",
       "    </tr>\n",
       "    <tr>\n",
       "      <th>3009</th>\n",
       "      <td>2835415016</td>\n",
       "      <td>1981</td>\n",
       "      <td>88.587806</td>\n",
       "      <td>60.516605</td>\n",
       "      <td>0</td>\n",
       "      <td>37397</td>\n",
       "      <td>5.938494</td>\n",
       "      <td>32.287823</td>\n",
       "      <td>1975</td>\n",
       "      <td>0.328363</td>\n",
       "      <td>...</td>\n",
       "      <td>3522  MARSEILLE LN</td>\n",
       "      <td>41</td>\n",
       "      <td>240</td>\n",
       "      <td>0</td>\n",
       "      <td>0</td>\n",
       "      <td>1</td>\n",
       "      <td>0</td>\n",
       "      <td>2.007546</td>\n",
       "      <td>2</td>\n",
       "      <td>3</td>\n",
       "    </tr>\n",
       "    <tr>\n",
       "      <th>3554</th>\n",
       "      <td>2825317011</td>\n",
       "      <td>1968</td>\n",
       "      <td>98.171846</td>\n",
       "      <td>49.226006</td>\n",
       "      <td>0</td>\n",
       "      <td>49239</td>\n",
       "      <td>17.184644</td>\n",
       "      <td>42.105263</td>\n",
       "      <td>2004</td>\n",
       "      <td>0.297715</td>\n",
       "      <td>...</td>\n",
       "      <td>3112  LEXINGTON DR</td>\n",
       "      <td>54</td>\n",
       "      <td>260</td>\n",
       "      <td>3</td>\n",
       "      <td>1</td>\n",
       "      <td>0</td>\n",
       "      <td>0</td>\n",
       "      <td>2.871259</td>\n",
       "      <td>2</td>\n",
       "      <td>3</td>\n",
       "    </tr>\n",
       "    <tr>\n",
       "      <th>3565</th>\n",
       "      <td>2825317029</td>\n",
       "      <td>1962</td>\n",
       "      <td>98.171846</td>\n",
       "      <td>49.226006</td>\n",
       "      <td>0</td>\n",
       "      <td>49239</td>\n",
       "      <td>17.184644</td>\n",
       "      <td>42.105263</td>\n",
       "      <td>1996</td>\n",
       "      <td>0.262569</td>\n",
       "      <td>...</td>\n",
       "      <td>17402  BRYANT LN</td>\n",
       "      <td>60</td>\n",
       "      <td>260</td>\n",
       "      <td>3</td>\n",
       "      <td>0</td>\n",
       "      <td>0</td>\n",
       "      <td>1</td>\n",
       "      <td>2.949608</td>\n",
       "      <td>2</td>\n",
       "      <td>3</td>\n",
       "    </tr>\n",
       "    <tr>\n",
       "      <th>3707</th>\n",
       "      <td>2835415007</td>\n",
       "      <td>1981</td>\n",
       "      <td>88.587806</td>\n",
       "      <td>60.516605</td>\n",
       "      <td>0</td>\n",
       "      <td>37397</td>\n",
       "      <td>5.938494</td>\n",
       "      <td>32.287823</td>\n",
       "      <td>1976</td>\n",
       "      <td>0.317195</td>\n",
       "      <td>...</td>\n",
       "      <td>3554  MARSEILLE LN</td>\n",
       "      <td>41</td>\n",
       "      <td>240</td>\n",
       "      <td>0</td>\n",
       "      <td>0</td>\n",
       "      <td>1</td>\n",
       "      <td>0</td>\n",
       "      <td>2.428112</td>\n",
       "      <td>2</td>\n",
       "      <td>3</td>\n",
       "    </tr>\n",
       "    <tr>\n",
       "      <th>3718</th>\n",
       "      <td>2835414001</td>\n",
       "      <td>1979</td>\n",
       "      <td>88.587806</td>\n",
       "      <td>60.516605</td>\n",
       "      <td>0</td>\n",
       "      <td>37397</td>\n",
       "      <td>5.938494</td>\n",
       "      <td>32.287823</td>\n",
       "      <td>1975</td>\n",
       "      <td>0.321688</td>\n",
       "      <td>...</td>\n",
       "      <td>18020  CHANTILLY LN</td>\n",
       "      <td>43</td>\n",
       "      <td>240</td>\n",
       "      <td>0</td>\n",
       "      <td>0</td>\n",
       "      <td>1</td>\n",
       "      <td>0</td>\n",
       "      <td>2.093436</td>\n",
       "      <td>2</td>\n",
       "      <td>3</td>\n",
       "    </tr>\n",
       "  </tbody>\n",
       "</table>\n",
       "<p>71 rows × 32 columns</p>\n",
       "</div>"
      ],
      "text/plain": [
       "           pin10  est_year_construction  pct_minority  \\\n",
       "0     2930111009                   1960     80.064309   \n",
       "1     2930125045                   1958     80.064309   \n",
       "2     2825319003                   1959     98.171846   \n",
       "3     2930115006                   1967     93.566176   \n",
       "6     2825327002                   1957     98.171846   \n",
       "...          ...                    ...           ...   \n",
       "3009  2835415016                   1981     88.587806   \n",
       "3554  2825317011                   1968     98.171846   \n",
       "3565  2825317029                   1962     98.171846   \n",
       "3707  2835415007                   1981     88.587806   \n",
       "3718  2835414001                   1979     88.587806   \n",
       "\n",
       "      pct_single_partent_families  pct_non_english_speakers  median_hh_income  \\\n",
       "0                       57.913669                         0             44107   \n",
       "1                       57.913669                         0             44107   \n",
       "2                       49.226006                         0             49239   \n",
       "3                       65.337423                         0             35789   \n",
       "6                       49.226006                         0             49239   \n",
       "...                           ...                       ...               ...   \n",
       "3009                    60.516605                         0             37397   \n",
       "3554                    49.226006                         0             49239   \n",
       "3565                    49.226006                         0             49239   \n",
       "3707                    60.516605                         0             37397   \n",
       "3718                    60.516605                         0             37397   \n",
       "\n",
       "      pct_hh_below_poverty  pct_hh_with_children  hyd_year_stamped   g_label  \\\n",
       "0                20.967742             43.884892              2012  0.310206   \n",
       "1                20.967742             43.884892              2012  0.396199   \n",
       "2                17.184644             42.105263              1996  0.405210   \n",
       "3                 7.720588             45.398773              1988  0.435751   \n",
       "6                17.184644             42.105263              1996  0.522469   \n",
       "...                    ...                   ...               ...       ...   \n",
       "3009              5.938494             32.287823              1975  0.328363   \n",
       "3554             17.184644             42.105263              2004  0.297715   \n",
       "3565             17.184644             42.105263              1996  0.262569   \n",
       "3707              5.938494             32.287823              1976  0.317195   \n",
       "3718              5.938494             32.287823              1975  0.321688   \n",
       "\n",
       "      ...       property_address  age  neighborhood_code.1  cluster  \\\n",
       "0     ...       16853  CRANE AVE   62                  130        2   \n",
       "1     ...        2305 W 170TH ST   64                  130        2   \n",
       "2     ...   3105  LONGFELLOW AVE   63                  260        3   \n",
       "3     ...        16833  SHEA AVE   55                  130        2   \n",
       "6     ...  17403  LONGFELLOW AVE   65                  260        3   \n",
       "...   ...                    ...  ...                  ...      ...   \n",
       "3009  ...     3522  MARSEILLE LN   41                  240        0   \n",
       "3554  ...     3112  LEXINGTON DR   54                  260        3   \n",
       "3565  ...       17402  BRYANT LN   60                  260        3   \n",
       "3707  ...     3554  MARSEILLE LN   41                  240        0   \n",
       "3718  ...    18020  CHANTILLY LN   43                  240        0   \n",
       "\n",
       "      resident_type_one-story  resident_type_split-level  \\\n",
       "0                           0                          0   \n",
       "1                           0                          0   \n",
       "2                           0                          1   \n",
       "3                           0                          0   \n",
       "6                           1                          0   \n",
       "...                       ...                        ...   \n",
       "3009                        0                          1   \n",
       "3554                        1                          0   \n",
       "3565                        0                          0   \n",
       "3707                        0                          1   \n",
       "3718                        0                          1   \n",
       "\n",
       "      resident_type_two-story  prop_to_land_ratio  prob_g_lsl_num  our_pred  \n",
       "0                           1            8.890308               5         3  \n",
       "1                           0            2.302465               5         3  \n",
       "2                           0            3.712257               5         3  \n",
       "3                           1            6.131134               5         3  \n",
       "6                           0            3.867813               5         3  \n",
       "...                       ...                 ...             ...       ...  \n",
       "3009                        0            2.007546               2         3  \n",
       "3554                        0            2.871259               2         3  \n",
       "3565                        1            2.949608               2         3  \n",
       "3707                        0            2.428112               2         3  \n",
       "3718                        0            2.093436               2         3  \n",
       "\n",
       "[71 rows x 32 columns]"
      ]
     },
     "execution_count": 42,
     "metadata": {},
     "output_type": "execute_result"
    }
   ],
   "source": [
    "df.loc[~(df['prob_g_lsl_num'] == df['our_pred'])]"
   ]
  },
  {
   "cell_type": "code",
   "execution_count": 43,
   "id": "fe0dbb51",
   "metadata": {},
   "outputs": [],
   "source": [
    "df.to_csv('./Data/our_predictions2.csv')"
   ]
  },
  {
   "cell_type": "code",
   "execution_count": null,
   "id": "4dcf6901",
   "metadata": {},
   "outputs": [],
   "source": []
  }
 ],
 "metadata": {
  "kernelspec": {
   "display_name": "Python 3",
   "language": "python",
   "name": "python3"
  },
  "language_info": {
   "codemirror_mode": {
    "name": "ipython",
    "version": 3
   },
   "file_extension": ".py",
   "mimetype": "text/x-python",
   "name": "python",
   "nbconvert_exporter": "python",
   "pygments_lexer": "ipython3",
   "version": "3.8.8"
  }
 },
 "nbformat": 4,
 "nbformat_minor": 5
}
